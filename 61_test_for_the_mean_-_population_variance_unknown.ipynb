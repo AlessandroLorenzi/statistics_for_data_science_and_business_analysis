{
 "cells": [
  {
   "cell_type": "markdown",
   "metadata": {},
   "source": [
    "# Test for the mean - population variance unknown"
   ]
  },
  {
   "cell_type": "code",
   "execution_count": 19,
   "metadata": {},
   "outputs": [],
   "source": [
    "import pandas as pd\n",
    "import math"
   ]
  },
  {
   "cell_type": "code",
   "execution_count": 20,
   "metadata": {},
   "outputs": [],
   "source": [
    "openrate = pd.DataFrame(\n",
    "    {\n",
    "        \"openrate\": [\n",
    "            26,\n",
    "            23,\n",
    "            42,\n",
    "            49,\n",
    "            23,\n",
    "            59,\n",
    "            29,\n",
    "            29,\n",
    "            57,\n",
    "            40,\n",
    "        ]\n",
    "    }\n",
    ")\n",
    "\n",
    "mean_0 = 40\n"
   ]
  },
  {
   "cell_type": "markdown",
   "metadata": {},
   "source": [
    "### Calculate tscore"
   ]
  },
  {
   "cell_type": "code",
   "execution_count": 21,
   "metadata": {},
   "outputs": [
    {
     "data": {
      "text/plain": [
       "openrate   -0.529502\n",
       "dtype: float64"
      ]
     },
     "execution_count": 21,
     "metadata": {},
     "output_type": "execute_result"
    }
   ],
   "source": [
    "standard_error = openrate.mean() / math.sqrt(openrate.count())\n",
    "t_score = (openrate.mean() - 40) / (openrate.std() / math.sqrt(openrate.count()))\n",
    "t_score"
   ]
  },
  {
   "cell_type": "markdown",
   "metadata": {},
   "source": [
    "### Search in t table\n",
    "\n",
    "Look for `t(9,5%)` and `t(9,1%)`. \n",
    "\n",
    "Note:\n",
    "* 9 is sample size -1 \n",
    "* Take two side because now requesting *exactly* 40%"
   ]
  },
  {
   "cell_type": "code",
   "execution_count": 22,
   "metadata": {},
   "outputs": [],
   "source": [
    "t_9_5 = 2.262\n",
    "t_9_1 = 3.250"
   ]
  },
  {
   "cell_type": "markdown",
   "metadata": {},
   "source": [
    "### Calculate P Value\n",
    "\n",
    "Check on website: https://www.socscistatistics.com/pvalues/tdistribution.aspx\n",
    "\n",
    "* *t-score*: `0.5295`\n",
    "* *DF*: `9`\n",
    "* *Significance Level*: `5%`\n",
    "* `two-tailed`"
   ]
  },
  {
   "cell_type": "code",
   "execution_count": 23,
   "metadata": {},
   "outputs": [
    {
     "data": {
      "text/plain": [
       "0.609269"
      ]
     },
     "execution_count": 23,
     "metadata": {},
     "output_type": "execute_result"
    }
   ],
   "source": [
    "p_value = .609269\n",
    "p_value"
   ]
  },
  {
   "cell_type": "markdown",
   "metadata": {},
   "source": [
    "## Solution\n",
    "\n",
    "`0.529502 < 2.262` Accept the null hypothesis with confidence at 5%\n",
    "`0.529502 < 3.250` Accept the null hypothesis with confidence at 1%\n",
    "\n",
    "Comment: \n",
    "> At the 5% significance level we cannot say that the competitor's open rate is not 40%\n",
    "> *Different wording* The test on that sample shows that at 1% significance, our competitor's open rate is likely to be 40%.\n",
    "\n",
    "Or looking at p-value:\n",
    "* The result is not significant at p < .05.\n",
    "* The result is not significant at p < .01.\n"
   ]
  }
 ],
 "metadata": {
  "interpreter": {
   "hash": "70f649d30cb38eaa25cff341748afa444d5c7501b03657154e017c6e835ca064"
  },
  "kernelspec": {
   "display_name": "Python 3.9.7 ('base')",
   "language": "python",
   "name": "python3"
  },
  "language_info": {
   "codemirror_mode": {
    "name": "ipython",
    "version": 3
   },
   "file_extension": ".py",
   "mimetype": "text/x-python",
   "name": "python",
   "nbconvert_exporter": "python",
   "pygments_lexer": "ipython3",
   "version": "3.9.7"
  },
  "orig_nbformat": 4
 },
 "nbformat": 4,
 "nbformat_minor": 2
}
