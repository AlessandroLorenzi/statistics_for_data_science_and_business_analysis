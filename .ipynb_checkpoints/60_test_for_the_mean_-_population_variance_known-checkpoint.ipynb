{
 "cells": [
  {
   "cell_type": "markdown",
   "id": "9fa4abc0",
   "metadata": {},
   "source": [
    "# Test for the mean. Population variance known\n",
    "## Data scientist salary\n",
    "\n",
    "Background: You are given the data from the lesson\n",
    "Task 1: Test the null hypothesis at 10% significance\t\t\t\t"
   ]
  },
  {
   "cell_type": "code",
   "execution_count": 1,
   "id": "af55101a",
   "metadata": {},
   "outputs": [],
   "source": [
    "import pandas as pd\n",
    "from sklearn.preprocessing import StandardScaler\n",
    "\n",
    "%matplotlib inline\n"
   ]
  },
  {
   "cell_type": "code",
   "execution_count": 2,
   "id": "6903a1cb",
   "metadata": {},
   "outputs": [],
   "source": [
    "sample_mean=100200 \n",
    "pop_std=15000\n",
    "stderr=2739\n",
    "z_score=-4.67\n",
    "glassdor_h0=113000 "
   ]
  },
  {
   "cell_type": "code",
   "execution_count": 3,
   "id": "e1a50fb3",
   "metadata": {},
   "outputs": [],
   "source": [
    "salaries = pd.DataFrame(\n",
    "    {\n",
    "        \"salaries\": [\n",
    "            117.313,\n",
    "            104.002,\n",
    "            113.038,\n",
    "            101.936,\n",
    "            84.560,\n",
    "            113.136,\n",
    "            80.740,\n",
    "            100.536,\n",
    "            105.052,\n",
    "            87.201,\n",
    "            91.986,\n",
    "            94.868,\n",
    "            90.745,\n",
    "            102.848,\n",
    "            85.927,\n",
    "            112.276,\n",
    "            108.637,\n",
    "            96.818,\n",
    "            92.307,\n",
    "            114.564,\n",
    "            109.714,\n",
    "            108.833,\n",
    "            115.295,\n",
    "            89.279,\n",
    "            81.720,\n",
    "            89.344,\n",
    "            114.426,\n",
    "            90.410,\n",
    "            95.118,\n",
    "            113.382,\n",
    "        ]\n",
    "    }\n",
    ")\n"
   ]
  },
  {
   "cell_type": "code",
   "execution_count": 7,
   "id": "d0b4b669",
   "metadata": {},
   "outputs": [
    {
     "data": {
      "text/html": [
       "<div>\n",
       "<style scoped>\n",
       "    .dataframe tbody tr th:only-of-type {\n",
       "        vertical-align: middle;\n",
       "    }\n",
       "\n",
       "    .dataframe tbody tr th {\n",
       "        vertical-align: top;\n",
       "    }\n",
       "\n",
       "    .dataframe thead th {\n",
       "        text-align: right;\n",
       "    }\n",
       "</style>\n",
       "<table border=\"1\" class=\"dataframe\">\n",
       "  <thead>\n",
       "    <tr style=\"text-align: right;\">\n",
       "      <th></th>\n",
       "      <th>0</th>\n",
       "    </tr>\n",
       "  </thead>\n",
       "  <tbody>\n",
       "    <tr>\n",
       "      <th>count</th>\n",
       "      <td>3.000000e+01</td>\n",
       "    </tr>\n",
       "    <tr>\n",
       "      <th>mean</th>\n",
       "      <td>1.132427e-15</td>\n",
       "    </tr>\n",
       "    <tr>\n",
       "      <th>std</th>\n",
       "      <td>1.017095e+00</td>\n",
       "    </tr>\n",
       "    <tr>\n",
       "      <th>min</th>\n",
       "      <td>-1.724372e+00</td>\n",
       "    </tr>\n",
       "    <tr>\n",
       "      <th>25%</th>\n",
       "      <td>-8.600980e-01</td>\n",
       "    </tr>\n",
       "    <tr>\n",
       "      <th>50%</th>\n",
       "      <td>9.176690e-02</td>\n",
       "    </tr>\n",
       "    <tr>\n",
       "      <th>75%</th>\n",
       "      <td>1.013261e+00</td>\n",
       "    </tr>\n",
       "    <tr>\n",
       "      <th>max</th>\n",
       "      <td>1.516341e+00</td>\n",
       "    </tr>\n",
       "  </tbody>\n",
       "</table>\n",
       "</div>"
      ],
      "text/plain": [
       "                  0\n",
       "count  3.000000e+01\n",
       "mean   1.132427e-15\n",
       "std    1.017095e+00\n",
       "min   -1.724372e+00\n",
       "25%   -8.600980e-01\n",
       "50%    9.176690e-02\n",
       "75%    1.013261e+00\n",
       "max    1.516341e+00"
      ]
     },
     "execution_count": 7,
     "metadata": {},
     "output_type": "execute_result"
    }
   ],
   "source": [
    "salaries_normalized = pd.DataFrame(StandardScaler().fit_transform(salaries))\n",
    "salaries_normalized.describe()"
   ]
  }
 ],
 "metadata": {
  "kernelspec": {
   "display_name": "Python 3 (ipykernel)",
   "language": "python",
   "name": "python3"
  },
  "language_info": {
   "codemirror_mode": {
    "name": "ipython",
    "version": 3
   },
   "file_extension": ".py",
   "mimetype": "text/x-python",
   "name": "python",
   "nbconvert_exporter": "python",
   "pygments_lexer": "ipython3",
   "version": "3.9.7"
  }
 },
 "nbformat": 4,
 "nbformat_minor": 5
}
