{
 "cells": [
  {
   "cell_type": "markdown",
   "metadata": {},
   "source": [
    "# Test for the mean. Dependent samples.\n",
    "\n",
    "* Background: Some guy on the internet designed a weight-loss program. You are wondering if it is working. You are given a sample of some people who did the program. You can find the data in kg if you prefer working with kg as a unit of measurement.\n",
    "* Task 1: Calculate the difference between before and after\n",
    "* Task 2: State the null hypothesis.\n",
    "* Task 3: Calculate the appropriate statistic\n",
    "* Task 4: Decide if this is a one-sided or a two-sided test. Calculate the p-value of this statistic\n",
    "* Task 5: Based on the p-value, decide at 1%,5% and 10% significance, if the program is working. Comment using the appropriate statistical jargon.\n"
   ]
  },
  {
   "cell_type": "code",
   "execution_count": 2,
   "metadata": {},
   "outputs": [],
   "source": [
    "import pandas as pd\n",
    "import math"
   ]
  },
  {
   "cell_type": "code",
   "execution_count": 3,
   "metadata": {},
   "outputs": [],
   "source": [
    "weights = pd.DataFrame(\n",
    "    {\n",
    "        \"before\": [\n",
    "            228.58,\n",
    "            244.01,\n",
    "            262.46,\n",
    "            224.32,\n",
    "            202.14,\n",
    "            246.98,\n",
    "            195.86,\n",
    "            231.88,\n",
    "            243.32,\n",
    "            266.74,\n",
    "        ],\n",
    "        \"after\": [\n",
    "            228.55,\n",
    "            238.95,\n",
    "            255.62,\n",
    "            224.22,\n",
    "            199.71,\n",
    "            248.47,\n",
    "            192.60,\n",
    "            228.85,\n",
    "            233.85,\n",
    "            270.40,\n",
    "        ],\n",
    "    }\n",
    ")\n"
   ]
  },
  {
   "cell_type": "code",
   "execution_count": 4,
   "metadata": {},
   "outputs": [
    {
     "data": {
      "text/plain": [
       "count    10.000000\n",
       "mean     -2.507000\n",
       "std       3.951928\n",
       "min      -9.470000\n",
       "25%      -4.610000\n",
       "50%      -2.730000\n",
       "75%      -0.047500\n",
       "max       3.660000\n",
       "Name: delta, dtype: float64"
      ]
     },
     "execution_count": 4,
     "metadata": {},
     "output_type": "execute_result"
    }
   ],
   "source": [
    "weights = weights.assign(delta = lambda x: (x['after'] - x['before']) )\n",
    "\n",
    "weights[\"delta\"].describe()"
   ]
  },
  {
   "cell_type": "code",
   "execution_count": 5,
   "metadata": {},
   "outputs": [
    {
     "data": {
      "text/plain": [
       "2.0060664602258678"
      ]
     },
     "execution_count": 5,
     "metadata": {},
     "output_type": "execute_result"
    }
   ],
   "source": [
    "t_value = abs(\n",
    "    (weights[\"delta\"].mean() - 0)\n",
    "    / (weights[\"delta\"].std() / math.sqrt(weights[\"delta\"].count()))\n",
    ")\n",
    "\n",
    "t_value\n"
   ]
  },
  {
   "cell_type": "markdown",
   "metadata": {},
   "source": [
    "## Solution\n",
    "\n",
    "The p-value is `0.037908` (one sided).\n",
    "\n",
    "This has significant value for 5% and 10% but not at 1%.\n",
    "\n",
    "The diet is succesful, but I suggest to test again with a larger group of people."
   ]
  }
 ],
 "metadata": {
  "interpreter": {
   "hash": "70f649d30cb38eaa25cff341748afa444d5c7501b03657154e017c6e835ca064"
  },
  "kernelspec": {
   "display_name": "Python 3.9.7 ('base')",
   "language": "python",
   "name": "python3"
  },
  "language_info": {
   "codemirror_mode": {
    "name": "ipython",
    "version": 3
   },
   "file_extension": ".py",
   "mimetype": "text/x-python",
   "name": "python",
   "nbconvert_exporter": "python",
   "pygments_lexer": "ipython3",
   "version": "3.9.7"
  },
  "orig_nbformat": 4
 },
 "nbformat": 4,
 "nbformat_minor": 2
}
