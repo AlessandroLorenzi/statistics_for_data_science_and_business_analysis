{
 "cells": [
  {
   "cell_type": "markdown",
   "metadata": {},
   "source": [
    "# Testing of two means. Independent samples, population variances unknown but assumed to be equal\t\n",
    "\n",
    "## Shopping example\t\n",
    "\n",
    "\n",
    "**Background**: You have data on the amount of times people click on a pop-up add on 24 Mondays and 21 Saturdays on an e-learning platform for several years. The samples are drawn independently.\n",
    "\n",
    "**Task**: Statistically speaking, is there strong evidence that the number of clicks the add records on Mondays is higher than the number of clicks on Saturdays? "
   ]
  },
  {
   "cell_type": "code",
   "execution_count": 13,
   "metadata": {},
   "outputs": [
    {
     "name": "stdout",
     "output_type": "stream",
     "text": [
      "43\n"
     ]
    },
    {
     "data": {
      "text/plain": [
       "1.0093263198083002"
      ]
     },
     "execution_count": 13,
     "metadata": {},
     "output_type": "execute_result"
    }
   ],
   "source": [
    "import math\n",
    "\n",
    "monday_mean = 1078.0\n",
    "monday_stddev = 633.0\n",
    "monday_size = 24\n",
    "\n",
    "\n",
    "saturday_mean = 908.20\n",
    "saturday_stddev = 469.80\n",
    "saturday_size = 21\n",
    "\n",
    "monday_variance = monday_stddev**2\n",
    "saturday_variance = saturday_stddev**2\n",
    "\n",
    "stddev = (\n",
    "    (monday_size - 1) * monday_variance + (saturday_size - 1) * saturday_variance\n",
    ") / (monday_size + saturday_size - 2)\n",
    "\n",
    "\n",
    "variance = math.sqrt((stddev / monday_size) + (stddev / saturday_size))\n",
    "\n",
    "t_score = (abs(monday_mean - saturday_mean) - 0) / variance\n",
    "\n",
    "\n",
    "print (24 + 21 -2)\n",
    "t_score\n"
   ]
  },
  {
   "cell_type": "markdown",
   "metadata": {},
   "source": [
    "p-value = `0.318477`"
   ]
  }
 ],
 "metadata": {
  "interpreter": {
   "hash": "70f649d30cb38eaa25cff341748afa444d5c7501b03657154e017c6e835ca064"
  },
  "kernelspec": {
   "display_name": "Python 3.9.7 ('base')",
   "language": "python",
   "name": "python3"
  },
  "language_info": {
   "codemirror_mode": {
    "name": "ipython",
    "version": 3
   },
   "file_extension": ".py",
   "mimetype": "text/x-python",
   "name": "python",
   "nbconvert_exporter": "python",
   "pygments_lexer": "ipython3",
   "version": "3.9.7"
  },
  "orig_nbformat": 4
 },
 "nbformat": 4,
 "nbformat_minor": 2
}
