{
 "cells": [
  {
   "cell_type": "markdown",
   "id": "9fa4abc0",
   "metadata": {},
   "source": [
    "# Test for the mean. Population variance known\n",
    "## Data scientist salary\n",
    "\n",
    "Background: You are given the data from the lesson\n",
    "Task 1: Test the null hypothesis at 10% significance\t\t\t\t"
   ]
  },
  {
   "cell_type": "code",
   "execution_count": 20,
   "id": "af55101a",
   "metadata": {},
   "outputs": [],
   "source": [
    "import pandas as pd\n",
    "from sklearn.preprocessing import StandardScaler\n",
    "from scipy.stats import zscore\n",
    "import math\n",
    "\n",
    "%matplotlib inline\n"
   ]
  },
  {
   "cell_type": "code",
   "execution_count": 2,
   "id": "6903a1cb",
   "metadata": {},
   "outputs": [],
   "source": [
    "glassdor_h0=113000\n",
    "pop_std=15000"
   ]
  },
  {
   "cell_type": "code",
   "execution_count": 53,
   "id": "e1a50fb3",
   "metadata": {},
   "outputs": [
    {
     "data": {
      "text/plain": [
       "array([[<AxesSubplot:title={'center':'salaries'}>]], dtype=object)"
      ]
     },
     "execution_count": 53,
     "metadata": {},
     "output_type": "execute_result"
    },
    {
     "data": {
      "image/png": "[encoded data removed]",
      "text/plain": [
       "<Figure size 432x288 with 1 Axes>"
      ]
     },
     "metadata": {
      "needs_background": "light"
     },
     "output_type": "display_data"
    }
   ],
   "source": [
    "salaries = pd.DataFrame(\n",
    "    {\n",
    "        \"salaries\": [\n",
    "            117313,\n",
    "            104002,\n",
    "            113038,\n",
    "            101936,\n",
    "            84560,\n",
    "            113136,\n",
    "            80740,\n",
    "            100536,\n",
    "            105052,\n",
    "            87201,\n",
    "            91986,\n",
    "            94868,\n",
    "            90745,\n",
    "            102848,\n",
    "            85927,\n",
    "            112276,\n",
    "            108637,\n",
    "            96818,\n",
    "            92307,\n",
    "            114564,\n",
    "            109714,\n",
    "            108833,\n",
    "            115295,\n",
    "            89279,\n",
    "            81720,\n",
    "            89344,\n",
    "            114426,\n",
    "            90410,\n",
    "            95118,\n",
    "            113382,\n",
    "        ]\n",
    "    }\n",
    ")\n",
    "salaries.hist(bins=5)"
   ]
  },
  {
   "cell_type": "code",
   "execution_count": 28,
   "id": "affdb812",
   "metadata": {},
   "outputs": [],
   "source": [
    "sample_mean=salaries.mean()\n",
    "stderr=pop_std/math.sqrt(salaries.count())"
   ]
  },
  {
   "cell_type": "code",
   "execution_count": 47,
   "id": "c77cd037",
   "metadata": {},
   "outputs": [
    {
     "data": {
      "text/plain": [
       "salaries   -3.673765\n",
       "dtype: float64"
      ]
     },
     "execution_count": 47,
     "metadata": {},
     "output_type": "execute_result"
    }
   ],
   "source": [
    "z_score=(salaries.mean()-glassdor_h0)/stderr\n",
    "-z_score"
   ]
  },
  {
   "cell_type": "code",
   "execution_count": 51,
   "id": "1e03e29b",
   "metadata": {},
   "outputs": [
    {
     "data": {
      "text/plain": [
       "salaries    False\n",
       "dtype: bool"
      ]
     },
     "execution_count": 51,
     "metadata": {},
     "output_type": "execute_result"
    }
   ],
   "source": [
    "# alpha 10% significance\n",
    "alpha=0.1\n",
    "z_score_riferimento=1-(0.1/2)\n",
    "# 1.56\n",
    "#critical_value=0.9901\n",
    "z_score_riferimento\n",
    "-z_score < 1.65"
   ]
  }
 ],
 "metadata": {
  "kernelspec": {
   "display_name": "Python 3 (ipykernel)",
   "language": "python",
   "name": "python3"
  },
  "language_info": {
   "codemirror_mode": {
    "name": "ipython",
    "version": 3
   },
   "file_extension": ".py",
   "mimetype": "text/x-python",
   "name": "python",
   "nbconvert_exporter": "python",
   "pygments_lexer": "ipython3",
   "version": "3.9.7"
  }
 },
 "nbformat": 4,
 "nbformat_minor": 5
}
