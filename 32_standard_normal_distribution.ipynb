{
 "cells": [
  {
   "cell_type": "code",
   "execution_count": null,
   "id": "7ae07353",
   "metadata": {},
   "outputs": [],
   "source": [
    "import pandas as pd\n",
    "import matplotlib.pyplot as plt\n",
    "from sklearn.preprocessing import StandardScaler\n",
    "\n",
    "%matplotlib inline\n",
    "\n",
    "plt.close('all')"
   ]
  },
  {
   "cell_type": "code",
   "execution_count": null,
   "id": "92e1b538",
   "metadata": {},
   "outputs": [],
   "source": [
    "\n",
    "test_data = pd.DataFrame(\n",
    "    {'test_data':\n",
    "        [\n",
    "        567.45,\n",
    "        572.45,\n",
    "        572.45,\n",
    "        589.12,\n",
    "        613.87,\n",
    "        615.78,\n",
    "        628.45,\n",
    "        644.87,\n",
    "        650.45,\n",
    "        652.20,\n",
    "        656.87,\n",
    "        661.45,\n",
    "        666.45,\n",
    "        667.70,\n",
    "        668.95,\n",
    "        675.28,\n",
    "        675.78,\n",
    "        685.53,\n",
    "        694.28,\n",
    "        697.62,\n",
    "        705.78,\n",
    "        705.87,\n",
    "        708.12,\n",
    "        711.03,\n",
    "        714.03,\n",
    "        716.03,\n",
    "        722.28,\n",
    "        728.12,\n",
    "        728.70,\n",
    "        729.03,\n",
    "        730.12,\n",
    "        731.95,\n",
    "        735.03,\n",
    "        736.95,\n",
    "        737.37,\n",
    "        738.28,\n",
    "        739.78,\n",
    "        740.62,\n",
    "        743.62,\n",
    "        747.20,\n",
    "        748.20,\n",
    "        748.28,\n",
    "        748.53,\n",
    "        750.03,\n",
    "        752.12,\n",
    "        754.70,\n",
    "        755.03,\n",
    "        758.37,\n",
    "        760.53,\n",
    "        764.03,\n",
    "        769.28,\n",
    "        775.45,\n",
    "        781.20,\n",
    "        781.70,\n",
    "        785.62,\n",
    "        792.78,\n",
    "        793.37,\n",
    "        795.28,\n",
    "        797.62,\n",
    "        798.95,\n",
    "        799.70,\n",
    "        799.95,\n",
    "        810.87,\n",
    "        811.53,\n",
    "        813.62,\n",
    "        814.03,\n",
    "        814.78,\n",
    "        817.87,\n",
    "        818.87,\n",
    "        820.70,\n",
    "        821.12,\n",
    "        825.62,\n",
    "        828.62,\n",
    "        841.45,\n",
    "        842.03,\n",
    "        842.87,\n",
    "        849.62,\n",
    "        874.70,\n",
    "        878.78,\n",
    "        897.45,\n",
    "    ]}\n",
    ")\n",
    "\n"
   ]
  },
  {
   "cell_type": "code",
   "execution_count": null,
   "id": "4b7f6d15",
   "metadata": {},
   "outputs": [],
   "source": [
    "test_data.describe()"
   ]
  },
  {
   "cell_type": "code",
   "execution_count": null,
   "id": "8f995a48",
   "metadata": {},
   "outputs": [],
   "source": [
    "test_data.hist(bins=5)"
   ]
  },
  {
   "cell_type": "code",
   "execution_count": null,
   "id": "7be8e679",
   "metadata": {},
   "outputs": [],
   "source": [
    "test_data_standardized=pd.DataFrame(StandardScaler().fit_transform(test_data))"
   ]
  },
  {
   "cell_type": "code",
   "execution_count": null,
   "id": "0b2dc83b",
   "metadata": {},
   "outputs": [],
   "source": [
    "test_data_standardized.describe()"
   ]
  },
  {
   "cell_type": "code",
   "execution_count": null,
   "id": "68422cd0",
   "metadata": {},
   "outputs": [],
   "source": [
    "test_data_standardized.hist(bins=5)"
   ]
  }
 ],
 "metadata": {
  "kernelspec": {
   "display_name": "Python 3 (ipykernel)",
   "language": "python",
   "name": "python3"
  },
  "language_info": {
   "codemirror_mode": {
    "name": "ipython",
    "version": 3
   },
   "file_extension": ".py",
   "mimetype": "text/x-python",
   "name": "python",
   "nbconvert_exporter": "python",
   "pygments_lexer": "ipython3",
   "version": "3.9.7"
  }
 },
 "nbformat": 4,
 "nbformat_minor": 5
}
