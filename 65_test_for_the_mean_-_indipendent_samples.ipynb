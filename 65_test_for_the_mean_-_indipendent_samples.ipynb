{
 "cells": [
  {
   "cell_type": "markdown",
   "metadata": {},
   "source": [
    "# Test for two means. Independent samples, population variance known\t\n",
    "\n",
    "New Cleaning Detergent\t\n",
    "\t\n",
    "**Background**: Ajax releases a new dish detergent, called Extreme Ajax+, which they advertise to be able to clean many more dishes with a single bottle.\t\n",
    "You want to see if that is true and have bought 25 bottles of Extreme Ajax+ and 25 bottles of Ajax and collected data on how many dirty dishes you can wash with a single bottle. (Population variance is assumed to be known.)\t\n",
    "\t\n",
    "* **Task 1**: Find the standard deviations of the two samples\n",
    "* **Task 2**: State the Null Hypothesis\n",
    "* **Task 3**: Determine the Z-score\n",
    "* **Task 4**: Find the p-value\n",
    "* **Task 5**: Interpret the result\n"
   ]
  },
  {
   "cell_type": "code",
   "execution_count": 1,
   "metadata": {},
   "outputs": [],
   "source": [
    "import pandas as pd\n",
    "import math"
   ]
  },
  {
   "cell_type": "code",
   "execution_count": 2,
   "metadata": {},
   "outputs": [
    {
     "data": {
      "text/plain": [
       "{'mean': 15, 'variance': 6.4031242374328485}"
      ]
     },
     "execution_count": 2,
     "metadata": {},
     "output_type": "execute_result"
    }
   ],
   "source": [
    "plus = {\n",
    "    \"size\": 25,\n",
    "    \"mean\": 115,\n",
    "    \"variance\": 625,\n",
    "}\n",
    "\n",
    "base = {\n",
    "    \"size\": 25,\n",
    "    \"mean\": 100,\n",
    "    \"variance\": 400,\n",
    "}\n",
    "\n",
    "difference = {\n",
    "    \"mean\": plus[\"mean\"] - base[\"mean\"],\n",
    "    \"variance\": math.sqrt(\n",
    "        (plus[\"variance\"] / plus[\"size\"]) + (base[\"variance\"] / base[\"size\"])\n",
    "    ),\n",
    "}\n",
    "\n",
    "difference\n"
   ]
  },
  {
   "cell_type": "code",
   "execution_count": 3,
   "metadata": {},
   "outputs": [
    {
     "data": {
      "text/plain": [
       "2.342606428329091"
      ]
     },
     "execution_count": 3,
     "metadata": {},
     "output_type": "execute_result"
    }
   ],
   "source": [
    "z_score = abs((difference[\"mean\"] - 0) / difference[\"variance\"])\n",
    "z_score"
   ]
  },
  {
   "cell_type": "markdown",
   "metadata": {},
   "source": [
    "The pvalue is `0.009575`\n",
    "\n",
    "The result is significant at p < .01.\n",
    "\n",
    "## Solution\n",
    "\n",
    "We can significatly confirm that Ajax+ is a better product."
   ]
  }
 ],
 "metadata": {
  "interpreter": {
   "hash": "70f649d30cb38eaa25cff341748afa444d5c7501b03657154e017c6e835ca064"
  },
  "kernelspec": {
   "display_name": "Python 3.9.7 ('base')",
   "language": "python",
   "name": "python3"
  },
  "language_info": {
   "codemirror_mode": {
    "name": "ipython",
    "version": 3
   },
   "file_extension": ".py",
   "mimetype": "text/x-python",
   "name": "python",
   "nbconvert_exporter": "python",
   "pygments_lexer": "ipython3",
   "version": "3.9.7"
  },
  "orig_nbformat": 4
 },
 "nbformat": 4,
 "nbformat_minor": 2
}
